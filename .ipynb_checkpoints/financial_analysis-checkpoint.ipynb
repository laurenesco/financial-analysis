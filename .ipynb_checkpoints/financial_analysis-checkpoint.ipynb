{
 "cells": [
  {
   "cell_type": "markdown",
   "id": "92e73258-b8b3-45a8-8656-0b54451458d0",
   "metadata": {},
   "source": [
    "import pandas as pd\n",
    "import numpy as np\n",
    "import seaborn as sns\n",
    "import matplotlib.pyplot as plt"
   ]
  },
  {
   "cell_type": "markdown",
   "id": "75290400-87f9-4084-bfba-84d62e3a90b4",
   "metadata": {},
   "source": [
    "## Note: Make sure to change the feature names to match your billing statement csv"
   ]
  },
  {
   "cell_type": "code",
   "execution_count": null,
   "id": "fc3f2c4e-57d1-45ef-94fb-853d273298ed",
   "metadata": {},
   "outputs": [],
   "source": [
    "df = pd.read_csv('./# Provide CSV File Path Here')"
   ]
  },
  {
   "cell_type": "code",
   "execution_count": null,
   "id": "4ceee422-4e10-4dad-878e-b2b6dace7531",
   "metadata": {},
   "outputs": [],
   "source": [
    "# Drop Columns\n",
    "df.drop(columns = ['Memo'], inplace=True)\n",
    "df.drop(columns = ['Check Number'], inplace=True)"
   ]
  },
  {
   "cell_type": "code",
   "execution_count": null,
   "id": "563edbaf-cae8-47b7-a1f3-6bbea027b431",
   "metadata": {},
   "outputs": [],
   "source": [
    "df['Month'] = df['Post Date'].apply(\n",
    "    lambda x: x[0:2]\n",
    ")"
   ]
  },
  {
   "cell_type": "code",
   "execution_count": null,
   "id": "54c1c42c-4199-430f-9047-1b81e8a28c81",
   "metadata": {},
   "outputs": [],
   "source": [
    "january = df[df['Month'] == '01']\n",
    "february = df[df['Month'] == '02']\n",
    "march = df[df['Month'] == '03']\n",
    "april = df[df['Month'] == '04']\n",
    "may = df[df['Month'] == '05']\n",
    "june = df[df['Month'] == '06']\n",
    "july = df[df['Month'] == '07']"
   ]
  },
  {
   "cell_type": "code",
   "execution_count": null,
   "id": "b106f907-28af-4a01-8bbf-6b28a160dd79",
   "metadata": {},
   "outputs": [],
   "source": [
    "df.head()"
   ]
  },
  {
   "cell_type": "code",
   "execution_count": null,
   "id": "5e142d80-5d44-4346-af31-1164d25bb892",
   "metadata": {
    "scrolled": true
   },
   "outputs": [],
   "source": [
    "months = {'January':83,\n",
    "          'February':72,\n",
    "          'March':129,\n",
    "          'April':144,\n",
    "          'May':167,\n",
    "          'June':183,\n",
    "          'July':15\n",
    "         }"
   ]
  },
  {
   "cell_type": "markdown",
   "id": "f805c273-baaf-4a52-b4f3-c8055bb717ce",
   "metadata": {},
   "source": [
    "# January Summary"
   ]
  },
  {
   "cell_type": "code",
   "execution_count": null,
   "id": "f630d8f5-425b-4683-9c66-550005029a8d",
   "metadata": {},
   "outputs": [],
   "source": [
    "jan_credits = january[january.Amount > 0]\n",
    "jan_debits = january[january.Amount < 0]"
   ]
  },
  {
   "cell_type": "code",
   "execution_count": null,
   "id": "26365ef4-a141-4484-8d3f-e95246c5bb86",
   "metadata": {},
   "outputs": [],
   "source": [
    "jan_pay = jan_credits.Amount.sum()\n",
    "jan_expense = jan_debits.Amount.sum()\n",
    "print('January Pay: ${:.2f}'.format(jan_pay))\n",
    "print('January Expense: ${:.2f}'.format(jan_expense))\n",
    "print('January Net: ${:.2f}'.format(jan_pay + jan_expense))"
   ]
  },
  {
   "cell_type": "markdown",
   "id": "a49d5c6e-917b-4769-847c-3bfc17f3d37c",
   "metadata": {},
   "source": [
    "# February Summary"
   ]
  },
  {
   "cell_type": "code",
   "execution_count": null,
   "id": "153bb82d-bdcc-4566-a01c-f87ce7d4e681",
   "metadata": {},
   "outputs": [],
   "source": [
    "feb_credits = (february[february.Amount > 0])\n",
    "feb_debits = (february[february.Amount < 0])"
   ]
  },
  {
   "cell_type": "code",
   "execution_count": null,
   "id": "18304758-001e-4b2d-a1b9-4dcbdab195c7",
   "metadata": {},
   "outputs": [],
   "source": [
    "feb_pay = feb_credits.Amount.sum()\n",
    "feb_expense = feb_debits.Amount.sum()\n",
    "print('Feburary Pay: ${:.2f}'.format(feb_pay))\n",
    "print('February Expense: ${:.2f}'.format(feb_expense))\n",
    "print('February Net: ${:.2f}'.format(feb_pay + feb_expense))"
   ]
  },
  {
   "cell_type": "markdown",
   "id": "86798d36-1346-48c7-8ab5-eb9c32748b8c",
   "metadata": {},
   "source": [
    "# March Summary"
   ]
  },
  {
   "cell_type": "code",
   "execution_count": null,
   "id": "0cb48f14-b87d-475b-ae62-fbd20afab16a",
   "metadata": {},
   "outputs": [],
   "source": [
    "march_credits = (march[march.Amount > 0])\n",
    "march_debits = (march[march.Amount < 0])"
   ]
  },
  {
   "cell_type": "code",
   "execution_count": null,
   "id": "db485068-290e-436c-b795-42240efbbdd5",
   "metadata": {},
   "outputs": [],
   "source": [
    "march_pay = march_credits.Amount.sum()\n",
    "march_expense = march_debits.Amount.sum()\n",
    "print('March Pay: ${:.2f}'.format(march_pay))\n",
    "print('March Expense: ${:.2f}'.format(march_expense))\n",
    "print('March Net: ${:.2f}'.format(march_pay + march_expense))"
   ]
  },
  {
   "cell_type": "markdown",
   "id": "579e2215-5f92-465f-a93c-ca9b20449531",
   "metadata": {},
   "source": [
    "# April Summary"
   ]
  },
  {
   "cell_type": "code",
   "execution_count": null,
   "id": "9e4bbd06-4216-4ef7-a129-f16bb7d9947c",
   "metadata": {},
   "outputs": [],
   "source": [
    "april_credits = (april[april.Amount > 0])\n",
    "april_debits = (april[april.Amount < 0])"
   ]
  },
  {
   "cell_type": "code",
   "execution_count": null,
   "id": "af05b292-3b23-4083-a506-19100967ff71",
   "metadata": {},
   "outputs": [],
   "source": [
    "april_pay = april_credits.Amount.sum()\n",
    "april_expense = april_debits.Amount.sum()\n",
    "print('April Pay: ${:.2f}'.format(april_pay))\n",
    "print('April Expense: ${:.2f}'.format(april_expense))\n",
    "print('April Net: ${:.2f}'.format(april_pay + april_expense))"
   ]
  },
  {
   "cell_type": "markdown",
   "id": "608a345f-7e94-4225-a1ae-ae0408528e85",
   "metadata": {},
   "source": [
    "# May Summary"
   ]
  },
  {
   "cell_type": "code",
   "execution_count": null,
   "id": "1a31824b-2263-40be-9c5e-ae4a3d61976f",
   "metadata": {},
   "outputs": [],
   "source": [
    "may_credits = (may[may.Amount > 0])\n",
    "may_debits = (may[may.Amount < 0])"
   ]
  },
  {
   "cell_type": "code",
   "execution_count": null,
   "id": "51f8cdbd-aedb-44a6-b065-0fabe1e3001b",
   "metadata": {},
   "outputs": [],
   "source": [
    "may_pay = may_credits.Amount.sum()\n",
    "may_expense = may_debits.Amount.sum()\n",
    "print('May Pay: ${:.2f}'.format(may_pay))\n",
    "print('May Expense: ${:.2f}'.format(may_expense))\n",
    "print('May Net: ${:.2f}'.format(may_pay + may_expense))"
   ]
  },
  {
   "cell_type": "code",
   "execution_count": null,
   "id": "5d99adc9-1212-425d-a955-c854888589eb",
   "metadata": {
    "scrolled": true
   },
   "outputs": [],
   "source": [
    "may_credits.sort_values(by='Amount',ascending=False)"
   ]
  },
  {
   "cell_type": "markdown",
   "id": "a5b10474-fd78-4085-aec6-0b4b9d9c5644",
   "metadata": {},
   "source": [
    "# June Summary"
   ]
  },
  {
   "cell_type": "code",
   "execution_count": null,
   "id": "f4d98387-b813-4f90-853c-22532bd0c2b5",
   "metadata": {},
   "outputs": [],
   "source": [
    "june_credits = (june[june.Amount > 0])\n",
    "june_debits = (june[june.Amount < 0])\n",
    "june_debits.head()"
   ]
  },
  {
   "cell_type": "code",
   "execution_count": null,
   "id": "dfd39af1-fa2c-481e-b650-c9f6fabab9de",
   "metadata": {},
   "outputs": [],
   "source": [
    "june_pay = june_credits.Amount.sum()\n",
    "june_expense = june_debits.Amount.sum()\n",
    "print('June Pay: ${:.2f}'.format(june_pay))\n",
    "print('June Expense: ${:.2f}'.format(june_expense))\n",
    "print('June Net: ${:.2f}'.format(june_pay + june_expense))"
   ]
  },
  {
   "cell_type": "code",
   "execution_count": null,
   "id": "b3c964d7-6aa8-40ff-adbe-af1a5bc19ccd",
   "metadata": {},
   "outputs": [],
   "source": [
    "chik_fil_a = june_debits[june_debits['Payee'].str.contains('CHICK-FIL-A')].Amount.sum()\n",
    "tacos_ricos = june_debits[june_debits['Payee'].str.contains('TACOS RICOS')].Amount.sum()\n",
    "dunkin = june_debits[june_debits['Payee'].str.contains('DUNKIN')].Amount.sum()\n",
    "dunkin += june_debits[june_debits['Payee'].str.contains('DD/BR')].Amount.sum()\n",
    "brevity = june_debits[june_debits['Payee'].str.contains('BREVITY')].Amount.sum()\n",
    "starbucks = june_debits[june_debits['Payee'].str.contains('STARBUCKS')].Amount.sum()\n",
    "asia = june_debits[june_debits['Payee'].str.contains('ASIA')].Amount.sum()\n",
    "bakery = june_debits[june_debits['Payee'].str.contains('BAKE')].Amount.sum()\n",
    "burger_king = june_debits[june_debits['Payee'].str.contains('KING')].Amount.sum()\n",
    "subway = june_debits[june_debits['Payee'].str.contains('Subway')].Amount.sum()\n",
    "panda_express = june_debits[june_debits['Payee'].str.contains('PANDA')].Amount.sum()\n",
    "taqueria = june_debits[june_debits['Payee'].str.contains('TAQUERIA')].Amount.sum()\n",
    "macdonald = june_debits[june_debits['Payee'].str.contains('MCDONALD')].Amount.sum()\n",
    "crepes = june_debits[june_debits['Payee'].str.contains('CREPECCINO')].Amount.sum()\n",
    "tink = june_debits[june_debits['Payee'].str.contains('TINK')].Amount.sum()\n",
    "jims = june_debits[june_debits['Payee'].str.contains('JIM')].Amount.sum()\n",
    "palenque = june_debits[june_debits['Payee'].str.contains('PALENQUE')].Amount.sum()\n",
    "olive_garden = june_debits[june_debits['Payee'].str.contains('OLIVE')].Amount.sum()\n",
    "red_robin = june_debits[june_debits['Payee'].str.contains('ROBIN')].Amount.sum()\n",
    "pizza_hut = june_debits[june_debits['Payee'].str.contains('HUT')].Amount.sum()\n",
    "ihop = june_debits[june_debits['Payee'].str.contains('IHOP')].Amount.sum()\n",
    "crumble_cookie = june_debits[june_debits['Payee'].str.contains('CRUMBL')].Amount.sum()\n",
    "lupitas = june_debits[june_debits['Payee'].str.contains('LUPITA')].Amount.sum()\n",
    "shipleys = june_debits[june_debits['Payee'].str.contains('SHIPLEY')].Amount.sum()\n",
    "babes = june_debits[june_debits['Payee'].str.contains('BABE')].Amount.sum()\n",
    "jolibee = june_debits[june_debits['Payee'].str.contains('JOLLI')].Amount.sum()\n",
    "las_palapas = june_debits[june_debits['Payee'].str.contains('PALAPAS')].Amount.sum()\n",
    "house_of_joy = june_debits[june_debits['Payee'].str.contains('JOY')].Amount.sum()\n",
    "print(f'Tacos Ricos: ${tacos_ricos}')\n",
    "print(f'Chik-Fil-A: ${chik_fil_a}')\n",
    "print('Dunkin: ${:.2f}'.format(dunkin))\n",
    "print('Brevity: ${:.2f}'.format(brevity))\n",
    "print('Starbucks: ${:.2f}'.format(starbucks))\n",
    "print('Asia: ${:.2f}'.format(asia))\n",
    "print('Bakery: ${:.2f}'.format(bakery))\n",
    "print('Burger King: ${:.2f}'.format(burger_king))\n",
    "print('Subway: ${:.2f}'.format(subway))\n",
    "print('Panda Express: ${:.2f}'.format(panda_express))\n",
    "print('Taqueria: ${:.2f}'.format(taqueria))\n",
    "print('Macdonalds: ${:.2f}'.format(macdonald))\n",
    "print('Crepecino: ${:.2f}'.format(crepes))\n",
    "print('Tink-A-Tako: ${:.2f}'.format(tink))\n",
    "print('Jims: ${:.2f}'.format(jims))\n",
    "print('Taco Palenque: ${:.2f}'.format(palenque))\n",
    "print('Olive Garden: ${:.2f}'.format(olive_garden))\n",
    "print('Red Robin: ${:.2f}'.format(red_robin))\n",
    "print('Pizza Hut: ${:.2f}'.format(pizza_hut))\n",
    "print('IHOP: ${:.2f}'.format(ihop))\n",
    "print('Crumble Cookie: ${:.2f}'.format(crumble_cookie))\n",
    "print('Lupitas: ${:.2f}'.format(lupitas))\n",
    "print('Shipleys: ${:.2f}'.format(shipleys))\n",
    "print('Babes: ${:.2f}'.format(babes))\n",
    "print('Jolibee: ${:.2f}'.format(jolibee))\n",
    "print('Las Palapas: ${:.2f}'.format(las_palapas))\n",
    "print('House of Joy: ${:.2f}'.format(house_of_joy))\n",
    "print('Total: {:.2f}'.format(tacos_ricos + chik_fil_a + dunkin + brevity + starbucks + asia + bakery + burger_king +\n",
    "                             subway + panda_express + taqueria + macdonald + crepes + tink + jims + palenque + olive_garden + \n",
    "                             pizza_hut + ihop + crumble_cookie + lupitas + shipleys + babes + jolibee + las_palapas + \n",
    "                             house_of_joy))"
   ]
  },
  {
   "cell_type": "code",
   "execution_count": null,
   "id": "44096d32-b1e5-4d53-abd9-a87d5b4e0237",
   "metadata": {
    "scrolled": true
   },
   "outputs": [],
   "source": [
    "with pd.option_context(\"display.max_rows\", 1000):\n",
    "    display(june_debits)"
   ]
  },
  {
   "cell_type": "markdown",
   "id": "9db0a03e-a206-46a6-800d-9c65e543d489",
   "metadata": {},
   "source": [
    "# July Summary"
   ]
  },
  {
   "cell_type": "code",
   "execution_count": null,
   "id": "2406992b-aeee-4fb9-8b5c-755b69bdb220",
   "metadata": {},
   "outputs": [],
   "source": [
    "july_credits = (july[july.Amount > 0])\n",
    "july_debits = (july[july.Amount < 0])"
   ]
  },
  {
   "cell_type": "code",
   "execution_count": null,
   "id": "528459ed-cca0-4520-a741-40524ea7a6a6",
   "metadata": {},
   "outputs": [],
   "source": [
    "july_pay = july_credits.Amount.sum()\n",
    "july_expense = july_debits.Amount.sum()\n",
    "print('July Pay: ${:.2f}'.format(july_pay))\n",
    "print('July Expense: ${:.2f}'.format(july_expense))\n",
    "print('July Net: ${:.2f}'.format(july_pay + july_expense))"
   ]
  },
  {
   "cell_type": "markdown",
   "id": "d8f4b145-9416-454c-922a-17ddfaa6916d",
   "metadata": {},
   "source": [
    "# Visualizations"
   ]
  },
  {
   "cell_type": "markdown",
   "id": "bbc45790-98e6-4806-a4e6-a748ed0f7f93",
   "metadata": {},
   "source": [
    "## Pay YTD"
   ]
  },
  {
   "cell_type": "code",
   "execution_count": null,
   "id": "c17eef54-1ac2-4a64-ad57-9a3735b9fb59",
   "metadata": {},
   "outputs": [],
   "source": [
    "total_pay = {'January':jan_pay,'February':feb_pay,'March':march_pay,'April':april_pay,'May':may_pay,'June':june_pay,'July':july_pay}\n",
    "plt.bar(total_pay.keys(), total_pay.values())\n",
    "plt.title('2024 Pay YTD: \\n${:.2f}'.format(sum(list(total_pay.values()))))\n",
    "plt.show()\n",
    "plt.close()\n",
    "\n",
    "total_pay_ytd = 0\n",
    "for key,value in total_pay.items():\n",
    "    total_pay_ytd += value\n",
    "print('Pay YTD: \\n${:.2f}'.format(total_pay_ytd))"
   ]
  }
 ],
 "metadata": {
  "kernelspec": {
   "display_name": "Python 3 (ipykernel)",
   "language": "python",
   "name": "python3"
  },
  "language_info": {
   "codemirror_mode": {
    "name": "ipython",
    "version": 3
   },
   "file_extension": ".py",
   "mimetype": "text/x-python",
   "name": "python",
   "nbconvert_exporter": "python",
   "pygments_lexer": "ipython3",
   "version": "3.12.3"
  }
 },
 "nbformat": 4,
 "nbformat_minor": 5
}

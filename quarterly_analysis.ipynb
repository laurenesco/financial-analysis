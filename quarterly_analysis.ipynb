{
 "cells": [
  {
   "cell_type": "markdown",
   "id": "b82af367-a460-470d-8aea-e4c45ff27721",
   "metadata": {},
   "source": [
    "# Imports"
   ]
  },
  {
   "cell_type": "code",
   "execution_count": null,
   "id": "4324fccb-3f5e-45b1-9e3f-dc9a37068658",
   "metadata": {},
   "outputs": [],
   "source": [
    "import pandas as pd\n",
    "import seaborn as sns\n",
    "import matplotlib.pyplot as plt\n",
    "import financial_subs as fs"
   ]
  },
  {
   "cell_type": "markdown",
   "id": "75290400-87f9-4084-bfba-84d62e3a90b4",
   "metadata": {},
   "source": [
    "# Data Preprocessing"
   ]
  },
  {
   "cell_type": "code",
   "execution_count": 1,
   "id": "42eebc04-feac-451b-9d1d-9f9f07435780",
   "metadata": {},
   "outputs": [
    {
     "ename": "NameError",
     "evalue": "name 'pd' is not defined",
     "output_type": "error",
     "traceback": [
      "\u001b[1;31m---------------------------------------------------------------------------\u001b[0m",
      "\u001b[1;31mNameError\u001b[0m                                 Traceback (most recent call last)",
      "Cell \u001b[1;32mIn[1], line 2\u001b[0m\n\u001b[0;32m      1\u001b[0m \u001b[38;5;66;03m# Get the data\u001b[39;00m\n\u001b[1;32m----> 2\u001b[0m q1 \u001b[38;5;241m=\u001b[39m \u001b[43mpd\u001b[49m\u001b[38;5;241m.\u001b[39mread_csv(\u001b[38;5;124m'\u001b[39m\u001b[38;5;124mstatements/q12024.csv\u001b[39m\u001b[38;5;124m'\u001b[39m)\n\u001b[0;32m      3\u001b[0m q2 \u001b[38;5;241m=\u001b[39m pd\u001b[38;5;241m.\u001b[39mread_csv(\u001b[38;5;124m'\u001b[39m\u001b[38;5;124mstatements/q22024.csv\u001b[39m\u001b[38;5;124m'\u001b[39m)\n\u001b[0;32m      5\u001b[0m df \u001b[38;5;241m=\u001b[39m pd\u001b[38;5;241m.\u001b[39mconcat([q1, q2])\n",
      "\u001b[1;31mNameError\u001b[0m: name 'pd' is not defined"
     ]
    }
   ],
   "source": [
    "# Get the data\n",
    "q1 = pd.read_csv('statements/q12024.csv')\n",
    "q2 = pd.read_csv('statements/q22024.csv')\n",
    "\n",
    "df = pd.concat([q1, q2])\n",
    "df = df.sort_values(by='Date')\n",
    "\n",
    "\n",
    "\n",
    "\n",
    "\n",
    "\n",
    "########################\n",
    "#\n",
    "# this file needs to be reworked lol\n",
    "#\n",
    "########################"
   ]
  },
  {
   "cell_type": "markdown",
   "id": "7e3d2d79-46c3-455f-a45d-0917774f1cae",
   "metadata": {},
   "source": [
    "# Monthly Analysis"
   ]
  },
  {
   "cell_type": "markdown",
   "id": "0b7ae8f0-5f6d-461d-b004-93c59ebe3984",
   "metadata": {},
   "source": [
    "## Monthly Analysis Subroutines"
   ]
  },
  {
   "cell_type": "code",
   "execution_count": null,
   "id": "8f764c6e-3562-4eb4-8344-feaf81a47576",
   "metadata": {},
   "outputs": [],
   "source": [
    "def get_income(month_df):\n",
    "    credits = month_df[month_df.Amount > 0]\n",
    "    income = credits.Amount.sum()\n",
    "\n",
    "    return income\n",
    "\n",
    "def get_expenses(month_df):\n",
    "    debits = month_df[month_df.Amount < 0]\n",
    "    expenses = debits.Amount.sum()\n",
    "\n",
    "    return expenses\n",
    "\n",
    "def get_grocery_spending(month_df):\n",
    "    spending = month_df[month_df['Category'] == 'Groceries']\n",
    "\n",
    "    return spending\n",
    "\n",
    "def get_visualization_df(month_df, groceries):\n",
    "    if (groceries == 1):\n",
    "        filtered_df = month_df[(month_df['Amount'] < 0) & (month_df['Category'] != 'Transfer')]\n",
    "    else:\n",
    "        filtered_df = month_df[(month_df['Amount'] < 0) & (month_df['Category'] != 'Transfer') & (df['Category'] != 'Groceries')]\n",
    "\n",
    "    filtered_df.loc[:, 'Amount'] = filtered_df['Amount'].abs()\n",
    "    spending_by_category = filtered_df.groupby('Category')['Amount'].sum()\n",
    "\n",
    "    return spending_by_category\n",
    "\n",
    "def show_pie_chart(spending_df):\n",
    "    plt.figure(figsize=(6, 6))\n",
    "\n",
    "    # Create a color map with a number of colors\n",
    "    num_categories = len(spending_df)\n",
    "    colors = plt.get_cmap('viridis')(range(num_categories))  # Get colors from the colormap\n",
    "    colors = plt.cm.viridis(np.linspace(0, 1, len(spending_df)))\n",
    "\n",
    "    np.random.seed(42)  # For reproducibility\n",
    "    colors = np.random.rand(num_categories, 3) \n",
    "\n",
    "    # Map category names to colors\n",
    "    category_colors = {cat: colors[i] for i, cat in enumerate(spending_df.index)}\n",
    "    \n",
    "    plt.pie(spending_df, labels=spending_df.index, colors=[category_colors[cat] for cat in spending_df.index], startangle=250)\n",
    "    plt.axis('equal')\n",
    "    plt.title('Spending Distribution by Category')\n",
    "    plt.show()\n",
    "\n",
    "def print_stats(income_df, expense_df, grocery_df, month):\n",
    "    print(\"\\n\")\n",
    "    print(\"{} Pay: ${:.2f}\".format(month, income_df))\n",
    "    print(\"{} Expense: ${:.2f}\".format(month, expense_df))\n",
    "    print(\"{} Net: ${:.2f}\".format(month, income_df + expense_df))\n",
    "    print(\"Grocery Spending in {}: ${:.2f}\".format(month, grocery_df['Amount'].sum()))\n",
    "    print(\"\\n\\n\")\n",
    "    return"
   ]
  },
  {
   "cell_type": "markdown",
   "id": "86d16f62-64ba-4880-b84d-9986e593acfe",
   "metadata": {},
   "source": [
    "## January Summary"
   ]
  },
  {
   "cell_type": "code",
   "execution_count": null,
   "id": "2b835e88-aa0f-4e7c-9082-de8eb1dc8994",
   "metadata": {},
   "outputs": [],
   "source": [
    "jan_income = get_income(january)\n",
    "jan_expense = get_expenses(january)\n",
    "jan_grocery = get_grocery_spending(january)\n",
    "\n",
    "print_stats(jan_income, jan_expense, jan_grocery, \"January\")\n",
    "      \n",
    "spending_by_category = get_visualization_df(january, 1)\n",
    "show_pie_chart(spending_by_category)"
   ]
  },
  {
   "cell_type": "markdown",
   "id": "a49d5c6e-917b-4769-847c-3bfc17f3d37c",
   "metadata": {},
   "source": [
    "## February Summary"
   ]
  },
  {
   "cell_type": "code",
   "execution_count": null,
   "id": "228b54d5-74ae-433a-8e2d-0b74d3a7b3bb",
   "metadata": {},
   "outputs": [],
   "source": [
    "feb_income = get_income(february)\n",
    "feb_expense = get_expenses(february)\n",
    "feb_grocery = get_grocery_spending(february)\n",
    "\n",
    "print_stats(feb_income, feb_expense, feb_grocery, \"February\")\n",
    "      \n",
    "spending_by_category = get_visualization_df(february, 1)\n",
    "show_pie_chart(spending_by_category)"
   ]
  },
  {
   "cell_type": "markdown",
   "id": "86798d36-1346-48c7-8ab5-eb9c32748b8c",
   "metadata": {},
   "source": [
    "## March Summary"
   ]
  },
  {
   "cell_type": "code",
   "execution_count": null,
   "id": "9918b6fb-7e39-41ef-98d2-25014309c326",
   "metadata": {},
   "outputs": [],
   "source": [
    "mar_income = get_income(march)\n",
    "mar_expense = get_expenses(march)\n",
    "mar_grocery = get_grocery_spending(march)\n",
    "\n",
    "print_stats(feb_income, feb_expense, feb_grocery, \"February\")\n",
    "      \n",
    "spending_by_category = get_visualization_df(march, 1)\n",
    "show_pie_chart(spending_by_category)"
   ]
  },
  {
   "cell_type": "markdown",
   "id": "579e2215-5f92-465f-a93c-ca9b20449531",
   "metadata": {},
   "source": [
    "## April Summary"
   ]
  },
  {
   "cell_type": "code",
   "execution_count": null,
   "id": "c82a3f99-9f58-46b2-8cb9-c5fe168afc7c",
   "metadata": {},
   "outputs": [],
   "source": [
    "apr_income = get_income(april)\n",
    "apr_expense = get_expenses(april)\n",
    "apr_grocery = get_grocery_spending(april)\n",
    "\n",
    "print_stats(mar_income, mar_expense, mar_grocery, \"March\")\n",
    "      \n",
    "spending_by_category = get_visualization_df(april, 1)\n",
    "show_pie_chart(spending_by_category)"
   ]
  },
  {
   "cell_type": "markdown",
   "id": "608a345f-7e94-4225-a1ae-ae0408528e85",
   "metadata": {},
   "source": [
    "## May Summary"
   ]
  },
  {
   "cell_type": "code",
   "execution_count": null,
   "id": "26321c20-828c-47d7-b12d-01bd07ea68ca",
   "metadata": {},
   "outputs": [],
   "source": [
    "may_income = get_income(may)\n",
    "may_expense = get_expenses(may)\n",
    "may_grocery = get_grocery_spending(may)\n",
    "\n",
    "print_stats(may_income, may_expense, may_grocery, \"May\")\n",
    "      \n",
    "spending_by_category = get_visualization_df(may, 1)\n",
    "show_pie_chart(spending_by_category)"
   ]
  },
  {
   "cell_type": "markdown",
   "id": "a5b10474-fd78-4085-aec6-0b4b9d9c5644",
   "metadata": {},
   "source": [
    "## June Summary"
   ]
  },
  {
   "cell_type": "code",
   "execution_count": null,
   "id": "cdd4a82c-5454-44f8-88d9-483f09050eb3",
   "metadata": {},
   "outputs": [],
   "source": [
    "jun_income = get_income(june)\n",
    "jun_expense = get_expenses(june)\n",
    "jun_grocery = get_grocery_spending(june)\n",
    "\n",
    "print_stats(jun_income, jun_expense, jun_grocery, \"June\")\n",
    "      \n",
    "spending_by_category = get_visualization_df(june, 1)\n",
    "show_pie_chart(spending_by_category)"
   ]
  },
  {
   "cell_type": "markdown",
   "id": "d8f4b145-9416-454c-922a-17ddfaa6916d",
   "metadata": {},
   "source": [
    "# Visualizations"
   ]
  },
  {
   "cell_type": "markdown",
   "id": "bbc45790-98e6-4806-a4e6-a748ed0f7f93",
   "metadata": {},
   "source": [
    "## Pay YTD"
   ]
  },
  {
   "cell_type": "code",
   "execution_count": null,
   "id": "c17eef54-1ac2-4a64-ad57-9a3735b9fb59",
   "metadata": {},
   "outputs": [],
   "source": [
    "total_pay = {'January':jan_income,'February':feb_income,'March':mar_income,'April':apr_income,'May':may_income,'June':jun_income}\n",
    "plt.bar(total_pay.keys(), total_pay.values())\n",
    "plt.title('2024 Pay YTD: \\n${:.2f}'.format(sum(list(total_pay.values()))))\n",
    "plt.show()\n",
    "plt.close()"
   ]
  },
  {
   "cell_type": "markdown",
   "id": "641f4ff8-321b-460a-a657-383ccdcb144f",
   "metadata": {},
   "source": [
    "## Spending by Category"
   ]
  },
  {
   "cell_type": "code",
   "execution_count": null,
   "id": "5806e79b-5a79-4166-9e0b-df4af66f771b",
   "metadata": {},
   "outputs": [],
   "source": [
    "filtered_df = df[(df['Amount'] < 0) & (df['Category'] != 'Transfer') & (df['Category'] != 'Groceries')]\n",
    "filtered_df.loc[:, 'Amount'] = filtered_df['Amount'].abs()\n",
    "spending_by_category = filtered_df.groupby('Category')['Amount'].sum()\n",
    "\n",
    "plt.figure(figsize=(12, 6))\n",
    "sns.barplot(x=spending_by_category.index, y=spending_by_category.values)\n",
    "plt.xticks(rotation=45, ha='right') \n",
    "plt.xlabel('Category')\n",
    "plt.ylabel('Total Spending')\n",
    "plt.title('Spending by Category')\n",
    "plt.show()"
   ]
  },
  {
   "cell_type": "code",
   "execution_count": null,
   "id": "7591019b-e13e-43db-827b-8101d25d8bf0",
   "metadata": {},
   "outputs": [],
   "source": [
    "plt.figure(figsize=(12 ,12))\n",
    "plt.pie(spending_by_category, labels=spending_by_category.index, startangle=250)\n",
    "plt.axis('equal')\n",
    "plt.title('Spending Distribution by Category')\n",
    "plt.show()"
   ]
  }
 ],
 "metadata": {
  "kernelspec": {
   "display_name": "Python 3 (ipykernel)",
   "language": "python",
   "name": "python3"
  },
  "language_info": {
   "codemirror_mode": {
    "name": "ipython",
    "version": 3
   },
   "file_extension": ".py",
   "mimetype": "text/x-python",
   "name": "python",
   "nbconvert_exporter": "python",
   "pygments_lexer": "ipython3",
   "version": "3.10.13"
  }
 },
 "nbformat": 4,
 "nbformat_minor": 5
}

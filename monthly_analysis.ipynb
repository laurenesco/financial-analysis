{
 "cells": [
  {
   "cell_type": "code",
   "execution_count": null,
   "id": "4324fccb-3f5e-45b1-9e3f-dc9a37068658",
   "metadata": {},
   "outputs": [],
   "source": [
    "import financial_subs as fs\n",
    "import pandas as pd\n",
    "import seaborn as sns\n",
    "import matplotlib.pyplot as plt"
   ]
  },
  {
   "cell_type": "markdown",
   "id": "75290400-87f9-4084-bfba-84d62e3a90b4",
   "metadata": {},
   "source": [
    "# Data Preprocessing"
   ]
  },
  {
   "cell_type": "code",
   "execution_count": null,
   "id": "42eebc04-feac-451b-9d1d-9f9f07435780",
   "metadata": {},
   "outputs": [],
   "source": [
    "# Get the data\n",
    "flex = pd.read_csv('statements/sep2024flex.csv')\n",
    "grocery = pd.read_csv('statements/sep2024grocery.csv')\n",
    "bills = pd.read_csv('statements/sep2024bills.csv')"
   ]
  },
  {
   "cell_type": "markdown",
   "id": "cfa8b35f-0407-4783-8798-db08d0bde1f9",
   "metadata": {},
   "source": [
    "### Renaming and organizing dataframes"
   ]
  },
  {
   "cell_type": "code",
   "execution_count": null,
   "id": "b3521f2e-e307-4383-9e83-cdedc7b39fee",
   "metadata": {
    "scrolled": true
   },
   "outputs": [],
   "source": [
    "# Rename the categories \n",
    "flex = fs.rename_categories(flex)\n",
    "bills = fs.rename_categories(bills)\n",
    "grocery = fs.rename_categories(grocery)\n",
    "\n",
    "# Organize known recurring charges\n",
    "fs.organize_recurring_charges(flex)\n",
    "fs.organize_recurring_charges(bills)\n",
    "fs.organize_recurring_charges(grocery)\n",
    "\n",
    "# Check out the categories left to see if anything is \n",
    "unique_flex = pd.DataFrame(flex.Category.unique(), columns=['Category']).sort_values(by='Category')\n",
    "unique_bills = pd.DataFrame(bills.Category.unique(), columns=['Category']).sort_values(by='Category')\n",
    "unique_grocery = pd.DataFrame(grocery.Category.unique(), columns=['Category']).sort_values(by='Category')\n",
    "\n",
    "print (\"\\nFlex Categories:\\n\")\n",
    "fs.print_fancy(unique_flex)\n",
    "print (\"\\nBills Categories:\\n\")\n",
    "fs.print_fancy(unique_bills)\n",
    "print (\"\\nGrocery Categories:\\n\")\n",
    "fs.print_fancy(unique_grocery)"
   ]
  },
  {
   "cell_type": "markdown",
   "id": "a11f3cee-0564-40c6-bb3e-abdb95d1c2a9",
   "metadata": {},
   "source": [
    "### Inspect any funky categories"
   ]
  },
  {
   "cell_type": "code",
   "execution_count": null,
   "id": "97300fd4-3e04-4018-99bc-8e995c85cfaa",
   "metadata": {
    "scrolled": true
   },
   "outputs": [],
   "source": [
    "# Create a df to hold all transactions for analysis\n",
    "all = pd.concat([flex, grocery, bills])\n",
    "all = all.sort_values(by='Date')\n",
    "\n",
    "# Print any categories of interest to see what is in there\n",
    "fs.print_category(all, 'Gifts & Donations')\n",
    "fs.print_category(all, 'Food')\n",
    "fs.print_category(all, 'Uncategorized')"
   ]
  },
  {
   "cell_type": "markdown",
   "id": "35231bd8-8aec-43ab-b394-2feb2244b38f",
   "metadata": {},
   "source": [
    "### Allocate temporary transactions"
   ]
  },
  {
   "cell_type": "code",
   "execution_count": null,
   "id": "53c3b4a0-47da-4095-a5e2-b14418ed06b3",
   "metadata": {},
   "outputs": [],
   "source": [
    "# Move anything temporary to a category\n",
    "df.loc[df['Description'] == 'Tattoos by Megan Fox San Antonio Tx', 'Category'] = 'Shopping'\n",
    "df.loc[df['Description'] == 'Concept Pca', 'Category'] = 'Shopping'"
   ]
  },
  {
   "cell_type": "markdown",
   "id": "0cce4620-a5ec-49ef-a303-f5e5e9193afb",
   "metadata": {},
   "source": [
    "### Renaming 'Uncategorized' Category"
   ]
  },
  {
   "cell_type": "code",
   "execution_count": null,
   "id": "2e72d7e8-c540-417a-8a80-81ef0312ecd4",
   "metadata": {},
   "outputs": [],
   "source": [
    "# See whats in the Uncategorized category - we want to see nothing in here\n",
    "fs.print_category(all, 'Uncategorized')"
   ]
  },
  {
   "cell_type": "markdown",
   "id": "7e3d2d79-46c3-455f-a45d-0917774f1cae",
   "metadata": {},
   "source": [
    "# Analysis"
   ]
  },
  {
   "cell_type": "markdown",
   "id": "86d16f62-64ba-4880-b84d-9986e593acfe",
   "metadata": {},
   "source": [
    "### Flex Summary"
   ]
  },
  {
   "cell_type": "code",
   "execution_count": null,
   "id": "2b835e88-aa0f-4e7c-9082-de8eb1dc8994",
   "metadata": {},
   "outputs": [],
   "source": [
    "# TEMP: dropping the UT austin payment since its being reimbursed\n",
    "flex = flex[flex['Category'] != 'Education']\n",
    "\n",
    "flex_income = fs.get_income(flex)\n",
    "flex_expense = fs.get_expenses(flex)\n",
    "\n",
    "# print_fancy(flex)\n",
    "fs.print_stats(flex_income, flex_expense, \"Flex\")\n",
    "      \n",
    "spending_by_category = fs.get_visualization_df(flex, 1)\n",
    "fs.show_pie_chart(spending_by_category)"
   ]
  },
  {
   "cell_type": "code",
   "execution_count": null,
   "id": "2398a490-ae96-4f67-9a46-16a982c2b89e",
   "metadata": {},
   "outputs": [],
   "source": [
    "fs.print_category(flex, 'Shopping')"
   ]
  },
  {
   "cell_type": "markdown",
   "id": "a49d5c6e-917b-4769-847c-3bfc17f3d37c",
   "metadata": {},
   "source": [
    "### Bills Summary"
   ]
  },
  {
   "cell_type": "code",
   "execution_count": null,
   "id": "228b54d5-74ae-433a-8e2d-0b74d3a7b3bb",
   "metadata": {},
   "outputs": [],
   "source": [
    "bills_income = fs.get_income(bills)\n",
    "bills_expense = fs.get_expenses(bills)\n",
    "\n",
    "# print_fancy(bills)\n",
    "fs.print_stats(bills_income, bills_expense, \"Bills\")\n",
    "      \n",
    "spending_by_category = fs.get_visualization_df(bills, 1)\n",
    "fs.show_pie_chart(spending_by_category)"
   ]
  },
  {
   "cell_type": "code",
   "execution_count": null,
   "id": "a7aaaf12-6ee6-4593-ab60-63999fdf7fc3",
   "metadata": {},
   "outputs": [],
   "source": [
    "fs.print_category(bills, 'Bills & Utilities')"
   ]
  },
  {
   "cell_type": "markdown",
   "id": "86798d36-1346-48c7-8ab5-eb9c32748b8c",
   "metadata": {},
   "source": [
    "### Grocery Summary"
   ]
  },
  {
   "cell_type": "code",
   "execution_count": null,
   "id": "9918b6fb-7e39-41ef-98d2-25014309c326",
   "metadata": {},
   "outputs": [],
   "source": [
    "grocery_income = fs.get_income(grocery)\n",
    "grocery_expense = fs.get_expenses(grocery)\n",
    "\n",
    "# print_fancy(grocery)\n",
    "fs.print_stats(grocery_income, grocery_expense, \"Grocery\")\n",
    "      \n",
    "spending_by_category = fs.get_visualization_df(grocery, 1)\n",
    "fs.show_pie_chart(spending_by_category)"
   ]
  },
  {
   "cell_type": "code",
   "execution_count": null,
   "id": "dd8881d2-3bd6-438c-a933-34050a4444bc",
   "metadata": {},
   "outputs": [],
   "source": [
    "fs.print_category(grocery, 'Gym')"
   ]
  },
  {
   "cell_type": "markdown",
   "id": "d8f4b145-9416-454c-922a-17ddfaa6916d",
   "metadata": {},
   "source": [
    "# Visualizations"
   ]
  },
  {
   "cell_type": "markdown",
   "id": "641f4ff8-321b-460a-a657-383ccdcb144f",
   "metadata": {},
   "source": [
    "### Spending by Category"
   ]
  },
  {
   "cell_type": "code",
   "execution_count": null,
   "id": "5806e79b-5a79-4166-9e0b-df4af66f771b",
   "metadata": {},
   "outputs": [],
   "source": [
    "filtered_df = all[(all['Amount'] < 0) & (all['Category'] != 'Transfer')]\n",
    "filtered_df.loc[:, 'Amount'] = filtered_df['Amount'].abs()\n",
    "spending_by_category = filtered_df.groupby('Category')['Amount'].sum()\n",
    "\n",
    "plt.figure(figsize=(12, 6))\n",
    "sns.barplot(x=spending_by_category.index, y=spending_by_category.values)\n",
    "plt.xticks(rotation=45, ha='right') \n",
    "plt.xlabel('Category')\n",
    "plt.ylabel('Total Spending')\n",
    "plt.title('Spending by Category')\n",
    "plt.show()"
   ]
  },
  {
   "cell_type": "code",
   "execution_count": null,
   "id": "7591019b-e13e-43db-827b-8101d25d8bf0",
   "metadata": {},
   "outputs": [],
   "source": [
    "plt.figure(figsize=(12 ,12))\n",
    "plt.pie(spending_by_category, labels=spending_by_category.index, startangle=250)\n",
    "plt.axis('equal')\n",
    "plt.title('Spending Distribution by Category')\n",
    "plt.show()"
   ]
  }
 ],
 "metadata": {
  "kernelspec": {
   "display_name": "Python 3 (ipykernel)",
   "language": "python",
   "name": "python3"
  },
  "language_info": {
   "codemirror_mode": {
    "name": "ipython",
    "version": 3
   },
   "file_extension": ".py",
   "mimetype": "text/x-python",
   "name": "python",
   "nbconvert_exporter": "python",
   "pygments_lexer": "ipython3",
   "version": "3.10.13"
  }
 },
 "nbformat": 4,
 "nbformat_minor": 5
}
